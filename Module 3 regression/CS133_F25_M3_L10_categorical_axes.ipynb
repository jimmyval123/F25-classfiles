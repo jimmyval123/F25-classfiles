{
  "cells": [
    {
      "cell_type": "markdown",
      "metadata": {
        "id": "K64ppXvzH0dm"
      },
      "source": [
        "<img src=\"https://cdn.arstechnica.net/wp-content/uploads/2020/07/pokemon-go-masks-800x450.jpg\">\n",
        "\n",
        "In this lecture, we will continue to use the dataset with combat statistics of Pokémon to learn how to look at distributions of values between groups. All the plots that we use in this chapter have one common characteristic: one axis is category and the other is a continuous variable."
      ]
    },
    {
      "cell_type": "code",
      "execution_count": 3,
      "metadata": {
        "id": "B91J3J0hH0dq"
      },
      "outputs": [],
      "source": [
        "import pandas as pd\n",
        "from matplotlib import pyplot as plt\n",
        "%matplotlib inline\n",
        "import seaborn as sns\n",
        "\n",
        "pokemon_url=\"https://raw.githubusercontent.com/csbfx/advpy122-data/master/Pokemon.csv\"\n"
      ]
    },
    {
      "cell_type": "markdown",
      "metadata": {
        "id": "0g5GZAWVH0dr"
      },
      "source": [
        "Here are the descriptions of this dataset:\n",
        "- \\# - Pokedex entry number of the Pokemon\n",
        "- Name - name of the Pokemon\n",
        "- Type 1 - each Pokemon has a type, this determines weakness/resistance to attacks [referred to as the primary type]\n",
        "- Type 2 - some Pokemon are dual type and have 2 [referred to as the secondary type]\n",
        "- Total - sum of all stats that come after this, a general guide to how strong a Pokemon is\n",
        "- HP - hit points, or health, defines how much damage a Pokemon can withstand before fainting\n",
        "- Attack - the base modifier for normal attacks\n",
        "- Defense - the base damage resistance against normal attacks\n",
        "- Sp. Atk - special attack, the base modifier for special attacks\n",
        "- Sp. Def - the base damage resistance against special attacks\n",
        "- Speed - determines which Pokemon attacks first each round\n",
        "- Generation - refers to which grouping/game series the Pokemon was released in\n",
        "- Legendary - a boolean that identifies whether the Pokemon is legendary"
      ]
    },
    {
      "cell_type": "code",
      "execution_count": 4,
      "metadata": {
        "id": "AkNjj3AuH0dr"
      },
      "outputs": [],
      "source": [
        "pokemon = pd.read_csv(pokemon_url)\n",
        "# pokemon.head()\n",
        "# pokemon.isnull().sum()\n",
        "# pokemon.info()"
      ]
    },
    {
      "cell_type": "code",
      "source": [
        "### Returns unique value of Series Generation\n",
        "# pokemon.Generation.unique()"
      ],
      "metadata": {
        "id": "lnTEXFi9m9Po"
      },
      "execution_count": 5,
      "outputs": []
    },
    {
      "cell_type": "markdown",
      "source": [
        "### Setting up a custom color schemes\n",
        "Using a dictionary of hexcode we can assign custom colors to the different types of pokemon.  \n",
        "[Pokemon Type Color Scheme Reference](https://www.epidemicjohto.com/t882-type-colors-hex-colors)  \n",
        "**find the website that gives you hexcode for given color"
      ],
      "metadata": {
        "id": "rqdroT2HoBtc"
      }
    },
    {
      "cell_type": "code",
      "source": [
        "pokemon_type_colors = {\"Normal\": \"#A8A77A\",\n",
        "\"Fire\" : \"#EE8130\",\n",
        "\"Water\" : \"#6390F0\",\n",
        "\"Electric\" : \"#F7D02C\",\n",
        "\"Grass\" : \"#7AC74C\",\n",
        "\"Ice\" : \"#96D9D6\",\n",
        "\"Fighting\" : \"#C22E28\",\n",
        "\"Poison\" : \"#A33EA1\",\n",
        "\"Ground\" : \"#E2BF65\",\n",
        "\"Flying\" : \"#A98FF3\",\n",
        "\"Psychic\" : \"#F95587\",\n",
        "\"Bug\" : \"#A6B91A\",\n",
        "\"Rock\" : \"#B6A136\",\n",
        "\"Ghost\" : \"#735797\",\n",
        "\"Dragon\" : '#6F35FC',\n",
        "\"Dark\" : \"#705746\",\n",
        "\"Steel\" : \"#B7B7CE\",\n",
        "\"Fairy\" : \"#D685AD\"}"
      ],
      "metadata": {
        "id": "lpztHkX-n-4x"
      },
      "execution_count": 6,
      "outputs": []
    },
    {
      "cell_type": "markdown",
      "source": [
        "### Relplot\n",
        "Plot data points with categorical variable on Y axis."
      ],
      "metadata": {
        "id": "dESYEy1EJKaZ"
      }
    },
    {
      "cell_type": "code",
      "source": [
        "sns.relplot(\n",
        "    data=pokemon,\n",
        "    x=\"Attack\",\n",
        "    y=\"Type 1\",\n",
        "    aspect=4, # aspect change the aspect ratio\n",
        "    height=10, # height of each facet\n",
        "    hue=\"Type 1\",\n",
        "    palette=pokemon_type_colors # using the defined palette\n",
        "    );"
      ],
      "metadata": {
        "id": "p980v-zM7stv"
      },
      "execution_count": 7,
      "outputs": []
    },
    {
      "cell_type": "markdown",
      "metadata": {
        "id": "YSNsqs-mH0ds"
      },
      "source": [
        "### catplot default `Strip` plot\n",
        "To look at the distribution of `Attack` for each group in `Type 1`, we can use the `catplot` function. This function shows the relationship between numerical and categorical variable. The default kind of categorical visual representation produced by `catplot` is called a **strip plot**."
      ]
    },
    {
      "cell_type": "code",
      "execution_count": 8,
      "metadata": {
        "id": "2EEvZ3nnH0dt"
      },
      "outputs": [],
      "source": [
        "sns.catplot(\n",
        "    data=pokemon,\n",
        "    x=\"Attack\",\n",
        "    y=\"Type 1\",\n",
        "    aspect=1, # aspect change the aspect ratio\n",
        "    height=15,\n",
        "    # jitter=0.5, # jitter spread out the data points\n",
        "    hue=\"Type 1\",\n",
        "    palette=pokemon_type_colors\n",
        "    )\n",
        "plt.title(\"Attack for Type 1 Pokemon\");"
      ]
    },
    {
      "cell_type": "markdown",
      "metadata": {
        "id": "gW4gbIBvH0dt"
      },
      "source": [
        "Just as we saw with `relplot` , `catplot` understands `hue`, `row` and `col` to map different categorical columns, so it’s possible to further subdivide the data."
      ]
    },
    {
      "cell_type": "code",
      "execution_count": 9,
      "metadata": {
        "id": "LS-NylFGH0du"
      },
      "outputs": [],
      "source": [
        "g=sns.catplot(\n",
        "    data=pokemon,\n",
        "    x=\"HP\",\n",
        "    y=\"Type 1\",\n",
        "    aspect=1, # aspect ratio\n",
        "    hue=\"Generation\",\n",
        "    row=\"Legendary\",\n",
        "    palette=\"Paired\",\n",
        "    jitter=0.3,\n",
        "    height=10,\n",
        "    # sharey=False, # share{x,y} if True will share axes across columns/row\n",
        "    sharex=False\n",
        "    )\n",
        "g.fig.suptitle(\"Attack of Type 1 Pokemon in 6 Generations\", y=1.02);"
      ]
    },
    {
      "cell_type": "markdown",
      "metadata": {
        "id": "W0e7g888H0dv"
      },
      "source": [
        "## Swarm plots\n",
        "Our other option for plotting every point is a swarm plot, which we can get by passing `kind='swarm'` to the `catplot` function. Where a strip plot adds random noise to the points, a swarm plot uses a layout algorithm to try and prevent points overlapping."
      ]
    },
    {
      "cell_type": "code",
      "source": [
        "# pokemon[[\"Attack\", \"Type 1\"]]"
      ],
      "metadata": {
        "id": "6sJ1_Z3AmcoW"
      },
      "execution_count": 10,
      "outputs": []
    },
    {
      "cell_type": "code",
      "execution_count": 11,
      "metadata": {
        "id": "o9f-sw_kH0dv"
      },
      "outputs": [],
      "source": [
        "sns.catplot(\n",
        "    data=pokemon,\n",
        "    x=\"Attack\",\n",
        "    y=\"Type 1\",\n",
        "    aspect=1, # aspect change the aspect ratio\n",
        "    kind=\"swarm\",\n",
        "    height=10,\n",
        "    # palette=\"Paired\"\n",
        "    hue=\"Type 1\",\n",
        "    palette=pokemon_type_colors,\n",
        "    size=3\n",
        "    )\n",
        "plt.title(\"HP for Type 1 Pokemon\");"
      ]
    },
    {
      "cell_type": "markdown",
      "metadata": {
        "id": "sl6M01aIH0dw"
      },
      "source": [
        "## Box plots\n",
        "Box plot is one of the most commonly used plot for visualizing data distribution. We can convert the swamp plot into a box plot by simply changing the kind argument to `kind=\"box\"`"
      ]
    },
    {
      "cell_type": "code",
      "execution_count": 12,
      "metadata": {
        "id": "-ho1NMa0H0dw"
      },
      "outputs": [],
      "source": [
        "sns.catplot(\n",
        "    data=pokemon,\n",
        "    x=\"Attack\",\n",
        "    y=\"Type 1\",\n",
        "    aspect=1, # aspect change the aspect ratio\n",
        "    kind=\"box\",\n",
        "    height=10,\n",
        "    # palette=\"Paired\"\n",
        "    hue=\"Type 1\",\n",
        "    palette=pokemon_type_colors,\n",
        "    # dodge=False # dodge controls overlap of the plots\n",
        "    )\n",
        "plt.title(\"Distribution of HP for Type 1 Pokemon\");"
      ]
    },
    {
      "cell_type": "markdown",
      "metadata": {
        "id": "7a_tHQlsH0dx"
      },
      "source": [
        "The boxplot above gives us a much more readable plot. For each category the box shows the range that encompasses 75% of the data along with a  line within the box to show us the median value. The whiskers show the range that includes 1.5 times the interquartile range beyond the box, and any values outside that are plotted as individual points. [Boxplots explained](https://www.simplypsychology.org/boxplots.html)"
      ]
    },
    {
      "cell_type": "markdown",
      "metadata": {
        "id": "qVniq83bH0dx"
      },
      "source": [
        "Because we are still using the `catplot` function to do the charting, we can still use color and small multiples using exactly the same set of arguments that we already know. This allows us to set up a complex plot with relatively little code."
      ]
    },
    {
      "cell_type": "code",
      "execution_count": null,
      "metadata": {
        "id": "8dwtfhqcH0dy"
      },
      "outputs": [],
      "source": [
        "data = pokemon[\n",
        "    (pokemon[\"Type 1\"].isin([\"Water\",\"Psychic\", \"Steel\"]))\n",
        "    & pokemon[\"Generation\"].isin([3,4])\n",
        "]"
      ]
    },
    {
      "cell_type": "code",
      "execution_count": null,
      "metadata": {
        "id": "zhBMt7-vH0dy",
        "outputId": "c23898ce-3b03-49c6-85bc-d849f0294d7b",
        "colab": {
          "base_uri": "https://localhost:8080/"
        }
      },
      "outputs": [
        {
          "output_type": "execute_result",
          "data": {
            "text/plain": [
              "array([False,  True])"
            ]
          },
          "metadata": {},
          "execution_count": 38
        }
      ],
      "source": [
        "data.Legendary.unique()"
      ]
    },
    {
      "cell_type": "code",
      "execution_count": 13,
      "metadata": {
        "id": "8FCouPaXH0dy"
      },
      "outputs": [],
      "source": [
        "g=sns.catplot(\n",
        "    data=data,\n",
        "    x=\"Type 1\",\n",
        "    y=\"Sp. Atk\",\n",
        "    kind=\"box\",\n",
        "    col=\"Legendary\",\n",
        "    hue=\"Generation\"\n",
        ")\n",
        "g.fig.suptitle(\"Distribution of Special Attack for Water, Psychic, and Steel in Generation 3 and 4\", y=1.05);"
      ]
    },
    {
      "cell_type": "markdown",
      "metadata": {
        "id": "6bCRCvG5H0dy"
      },
      "source": [
        "A noteable feature of boxplots is that they present only a fairly high level summary of the distribution of values. This is both a strength and a weakness. It’s a **strength** in that it allows us to deal with a fairly large number of categories and still have a readable chart. But it’s a **weakness** in that it hides details of the actual distribution of values."
      ]
    },
    {
      "cell_type": "markdown",
      "metadata": {
        "id": "PKLBP4yRH0dz"
      },
      "source": [
        "## Violin plots\n",
        "This chart type uses kernel density estimation to draw an estimate of the underlying distribution. Because violin plots show an estimate of the distribution, rather than being directly based on the values themselves, they are sometimes a bit more complicated to design, requiring us to make several decisions. [Violin plots explained](https://towardsdatascience.com/violin-plots-explained-fb1d115e023d)"
      ]
    },
    {
      "cell_type": "code",
      "execution_count": null,
      "metadata": {
        "id": "VGP7wqUnH0dz"
      },
      "outputs": [],
      "source": [
        "data = pokemon[\n",
        "    (pokemon[\"Type 1\"].isin([\"Water\",\"Psychic\", \"Steel\"]))\n",
        "    & pokemon[\"Generation\"].isin([3])\n",
        "]"
      ]
    },
    {
      "cell_type": "code",
      "execution_count": 14,
      "metadata": {
        "id": "bmjgULKXH0dz"
      },
      "outputs": [],
      "source": [
        "sns.catplot(\n",
        "    data=data,\n",
        "    x=\"Type 1\",\n",
        "    y=\"Sp. Atk\",\n",
        "    kind=\"violin\"\n",
        "    )\n",
        "\n",
        "plt.title(\"Distribution of Sp. Atk for Water, Psychic, and Steel in Generation 3\");"
      ]
    },
    {
      "cell_type": "code",
      "source": [
        "## Bandwidt to control smoothness of distribution\n",
        "\n",
        "sns.catplot(\n",
        "    data=data,\n",
        "    x=\"Type 1\",\n",
        "    y=\"Sp. Atk\",\n",
        "    kind=\"violin\",\n",
        "    # cut=0,\n",
        "    bw_method=0.1\n",
        "    );"
      ],
      "metadata": {
        "id": "d2-qi2mrrmdD"
      },
      "execution_count": 15,
      "outputs": []
    },
    {
      "cell_type": "markdown",
      "metadata": {
        "id": "6gmuIkg1H0d0"
      },
      "source": [
        "We can see this issue in the chart above, where the tip of the distribution of Sp. Atk goes below zero for Water and Psychic. Since the Sp. Atk is measured as a positive point, this obviously makes no sense! We can get the opposite behaviour - i.e. truncate the distribution at the limits of the observed values - by setting `cut` to zero. There’s also a bandwidth parameter `bw` which effectively controls how smooth the distribution is. Setting this value lower results in a more detailed distribuion, which may show useful patterns, but is also more susceptible to being affected by small numbers of data points."
      ]
    },
    {
      "cell_type": "code",
      "execution_count": null,
      "metadata": {
        "id": "ut3si_ryH0d0",
        "outputId": "0c10db17-4688-4fcd-ee0c-66b57c2eb862",
        "colab": {
          "base_uri": "https://localhost:8080/",
          "height": 529
        }
      },
      "outputs": [
        {
          "output_type": "display_data",
          "data": {
            "text/plain": [
              "<Figure size 511.111x500 with 1 Axes>"
            ],
            "image/png": "[encoded data removed]"
          },
          "metadata": {}
        }
      ],
      "source": [
        "sns.catplot(\n",
        "    data=data,\n",
        "    x=\"Type 1\",\n",
        "    y=\"Sp. Atk\",\n",
        "    kind=\"violin\",\n",
        "    cut=0,\n",
        "    bw_method=0.3\n",
        "    )\n",
        "\n",
        "plt.title(\"Distribution of Sp. Atk for Water, Psychic, and Steel in Generation 3\");"
      ]
    },
    {
      "cell_type": "markdown",
      "metadata": {
        "id": "KzsDNnsnH0d0"
      },
      "source": [
        "A further option is how we want to scale each violin. Setting the scale argument to 'count' sets the width of\n",
        "each violin to the number of observations:"
      ]
    },
    {
      "cell_type": "code",
      "execution_count": 16,
      "metadata": {
        "id": "lLR_6VC1H0d0"
      },
      "outputs": [],
      "source": [
        "sns.catplot(\n",
        "    data=data,\n",
        "    x=\"Type 1\",\n",
        "    y=\"Sp. Atk\",\n",
        "    kind=\"violin\",\n",
        "    cut=0,\n",
        "    bw_method=0.2,\n",
        "    density_norm=\"count\", # \"area\" means each violin will have the same area,  \"width\" means each violin will have the same width\n",
        "    )\n",
        "\n",
        "plt.title(\"Distribution of Sp. Atk for Water, Psychic, and Steel in Generation 3\");"
      ]
    },
    {
      "cell_type": "code",
      "source": [
        "data[\"Type 1\"].value_counts()"
      ],
      "metadata": {
        "colab": {
          "base_uri": "https://localhost:8080/"
        },
        "id": "9d-y8NKytBbT",
        "outputId": "52b0e765-4d5e-40ab-e05d-f4278f135022"
      },
      "execution_count": null,
      "outputs": [
        {
          "output_type": "execute_result",
          "data": {
            "text/plain": [
              "Water      27\n",
              "Psychic    12\n",
              "Steel      12\n",
              "Name: Type 1, dtype: int64"
            ]
          },
          "metadata": {},
          "execution_count": 38
        }
      ]
    },
    {
      "cell_type": "markdown",
      "metadata": {
        "id": "mk_MwtY9H0d0"
      },
      "source": [
        "Because violin plots are symetrical, when we have only two categories we can put one on each side with `split = True`"
      ]
    },
    {
      "cell_type": "code",
      "execution_count": null,
      "metadata": {
        "id": "ncppoOZTH0d1"
      },
      "outputs": [],
      "source": [
        "data = pokemon[\n",
        "    (pokemon[\"Type 1\"].isin([\"Water\",\"Psychic\", \"Steel\"]))\n",
        "    & pokemon[\"Generation\"].isin([3,4])\n",
        "]"
      ]
    },
    {
      "cell_type": "code",
      "execution_count": 17,
      "metadata": {
        "id": "cxb3f3_4H0d1"
      },
      "outputs": [],
      "source": [
        "### Split the plot to observe the two categories\n",
        "g=sns.catplot(\n",
        "    data=data,\n",
        "    x=\"Type 1\",\n",
        "    y=\"Sp. Atk\",\n",
        "    kind=\"violin\",\n",
        "    cut=0,\n",
        "    hue=\"Legendary\",\n",
        "    bw_method=0.5,\n",
        "    density_norm=\"count\",\n",
        "    split=True,\n",
        "    col=\"Generation\"\n",
        "    )\n",
        "\n",
        "g.fig.suptitle(\"Distribution of Special Attack for Water, Psychic, and Steel in Generation 3 and 4\", y=1.05);"
      ]
    },
    {
      "cell_type": "code",
      "execution_count": 18,
      "metadata": {
        "id": "pddAQMrhH0d1"
      },
      "outputs": [],
      "source": [
        "g=sns.catplot(\n",
        "    data=data,\n",
        "    x=\"Type 1\",\n",
        "    y=\"Sp. Atk\",\n",
        "    kind=\"box\",\n",
        "    col_wrap=2,\n",
        "    hue=\"Legendary\",\n",
        "    col=\"Generation\"\n",
        ")\n",
        "g.fig.suptitle(\"Distribution of Special Attack for Water, Psychic, and Steel in Generation 3 and 4\", y=1.05);"
      ]
    },
    {
      "cell_type": "code",
      "source": [
        "# # sns.violinplot?\n",
        "\n",
        "# # sns.__version__\n",
        "\n",
        "# sns.catplot(data=data,\n",
        "#             kind=\"violin\",\n",
        "#     x=\"Type 1\",\n",
        "#     y=\"Sp. Atk\",\n",
        "#     cut=0,\n",
        "#     bw_method=0.1,\n",
        "#     density_norm=\"count\",\n",
        "#               #  inner=\"quart\",\n",
        "#                color=\"lightgrey\");\n",
        "\n",
        "# # sns.swarmplot(data=data,\n",
        "# #     x=\"Type 1\",\n",
        "# #     y=\"Sp. Atk\",s=4, hue=\"Legendary\")\n",
        "\n",
        "# # sns.stripplot(data=data,\n",
        "# #     x=\"Type 1\",\n",
        "# #     y=\"Sp. Atk\",s=4,  alpha=0.5)"
      ],
      "metadata": {
        "id": "1y7GoZkuyTkk"
      },
      "execution_count": 20,
      "outputs": []
    },
    {
      "cell_type": "code",
      "source": [
        "# JUST FOR FUN\n",
        "\n",
        "# g=sns.catplot(\n",
        "#     data=data,\n",
        "#     x=\"Type 1\",\n",
        "#     y=\"Sp. Atk\",\n",
        "#     kind=\"box\",\n",
        "#     col_wrap=2,\n",
        "#     hue=\"Legendary\",\n",
        "#     col=\"Generation\"\n",
        "# )\n",
        "\n",
        "# # g.axes\n",
        "\n",
        "# sns.stripplot(data=data,\n",
        "#     x=\"Type 1\",\n",
        "#     y=\"Sp. Atk\",s=4, hue=\"Legendary\", alpha=0.5, ax=g.axes[1], legend=False)\n",
        "\n",
        "\n",
        "# sns.swarmplot(data=data,\n",
        "#     x=\"Type 1\",\n",
        "#     y=\"Sp. Atk\",s=4, hue=\"Legendary\", ax=g.axes[0], legend=False)\n",
        "\n",
        "# # # g.axes[0].legend().set_visible(False)\n",
        "# # # g.axes[1].legend().set_visible(False)\n",
        "# # # https://www.geeksforgeeks.org/change-axis-labels-set-title-and-figure-size-to-plots-with-seaborn/\n",
        "# g.axes[0].set_title(\"Gen 3\")\n",
        "# g.axes[1].set_title(\"Gen 4\")\n",
        "\n",
        "# # plt.title(\"new title\")\n",
        "# ;"
      ],
      "metadata": {
        "id": "xf28zjze2ePr"
      },
      "execution_count": 19,
      "outputs": []
    }
  ],
  "metadata": {
    "kernelspec": {
      "display_name": "Python 3",
      "language": "python",
      "name": "python3"
    },
    "language_info": {
      "codemirror_mode": {
        "name": "ipython",
        "version": 3
      },
      "file_extension": ".py",
      "mimetype": "text/x-python",
      "name": "python",
      "nbconvert_exporter": "python",
      "pygments_lexer": "ipython3",
      "version": "3.7.6"
    },
    "colab": {
      "provenance": []
    }
  },
  "nbformat": 4,
  "nbformat_minor": 0
}