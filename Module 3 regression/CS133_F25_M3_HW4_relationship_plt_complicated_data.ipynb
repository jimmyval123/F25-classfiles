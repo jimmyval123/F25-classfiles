{
  "cells": [
    {
      "cell_type": "markdown",
      "metadata": {
        "id": "-AqiLKPR3r6d"
      },
      "source": [
        "# Module 3 Homework - Working with complicated data to explore relationships"
      ]
    },
    {
      "cell_type": "markdown",
      "source": [
        "Created by NAME (SJSU ID)  \n",
        "Last updated: DATE"
      ],
      "metadata": {
        "id": "SX56AcddE7-V"
      }
    },
    {
      "cell_type": "markdown",
      "metadata": {
        "id": "tio0jU9Y3r6h"
      },
      "source": [
        "#### Question 1: ####\n",
        "\n",
        "blast_results: https://raw.githubusercontent.com/csbfx/advpy122-data/master/blast_results.csv\n",
        "\n",
        "Read in the data from the csv file above. Skip all the comment lines, create a header for the dataframe based on the fields list in the comment line that starts with **# Fields:**. Drop the first column `query acc.ver`. Set the `subject acc.ver` as the index of the dataframe. The last column of the dataframe should be `publications`. Show the first five rows of the resulting dataframe."
      ]
    },
    {
      "cell_type": "code",
      "execution_count": null,
      "metadata": {
        "id": "zkhws8KT3r6i"
      },
      "outputs": [],
      "source": [
        "### Your code here . . ."
      ]
    },
    {
      "cell_type": "markdown",
      "metadata": {
        "id": "aHNeMncr3r6j"
      },
      "source": [
        "#### Question 2: ####\n",
        "What is the average number of publications?"
      ]
    },
    {
      "cell_type": "code",
      "execution_count": null,
      "metadata": {
        "id": "Q1JK-hYw3r6j"
      },
      "outputs": [],
      "source": [
        "### Your code here . . ."
      ]
    },
    {
      "cell_type": "markdown",
      "metadata": {
        "id": "r4gRR96y3r6k"
      },
      "source": [
        "#### Question 3: ####\n",
        "List the `subject acc.ver` that has over 15,000 bonds."
      ]
    },
    {
      "cell_type": "code",
      "execution_count": null,
      "metadata": {
        "id": "pLKiddab3r6k"
      },
      "outputs": [],
      "source": [
        "### Your code here . . ."
      ]
    },
    {
      "cell_type": "markdown",
      "source": [
        "#### Question 4: ####\n",
        "Create a scatter plot that shows the relationship between `% identity` and `alignment length`.  \n",
        "Include in your answer, do alignment with longer length have higher % identity?"
      ],
      "metadata": {
        "id": "M70xicCeIPtw"
      }
    },
    {
      "cell_type": "code",
      "source": [
        "### Your code here . . ."
      ],
      "metadata": {
        "id": "jz9rL6meIvLX"
      },
      "execution_count": null,
      "outputs": []
    },
    {
      "cell_type": "markdown",
      "metadata": {
        "id": "H56QTFYU3r6l"
      },
      "source": [
        "#### Question 5: ####\n",
        "Create a plot that shows the correlation between `% identity` and `% positives`.  \n",
        "Include in your answer and interpretation of what this plot tells you about %identity and %positive."
      ]
    },
    {
      "cell_type": "code",
      "execution_count": null,
      "metadata": {
        "id": "YD3IBzmG3r6l"
      },
      "outputs": [],
      "source": [
        "### Your code here . . ."
      ]
    },
    {
      "cell_type": "markdown",
      "source": [
        "#### Question 6: ####\n",
        "Create a histogram to plot the frequency distribution of `%identity`.\n",
        "\n",
        "Ask: Are most hits high identity (close to 100%) or spread out?\n",
        "Include in your answer, are most of the subject acc.ver  `%identity` close to 100% or spread out?"
      ],
      "metadata": {
        "id": "ps5CXkTdHSef"
      }
    },
    {
      "cell_type": "code",
      "source": [
        "### Your code here . . ."
      ],
      "metadata": {
        "id": "vA7VpW8UHSrY"
      },
      "execution_count": null,
      "outputs": []
    },
    {
      "cell_type": "markdown",
      "metadata": {
        "id": "pEUJxhad3r6m"
      },
      "source": [
        "#### Question 7: ####\n",
        "Add a column `Protein source` to the dataframe from Question 1 based on the data in this csv file: https://raw.githubusercontent.com/csbfx/advpy122-data/master/protein_source.csv. Merge the data when the `subject acc.ver` from the dataframe equals to `Protein` in the csv file. Entries without a matching protein will have `NA` as `Protein source`."
      ]
    },
    {
      "cell_type": "code",
      "execution_count": null,
      "metadata": {
        "id": "xzIwyECv3r6m"
      },
      "outputs": [],
      "source": [
        "### Your code here . . ."
      ]
    }
  ],
  "metadata": {
    "kernelspec": {
      "display_name": "Python 3",
      "language": "python",
      "name": "python3"
    },
    "language_info": {
      "codemirror_mode": {
        "name": "ipython",
        "version": 3
      },
      "file_extension": ".py",
      "mimetype": "text/x-python",
      "name": "python",
      "nbconvert_exporter": "python",
      "pygments_lexer": "ipython3",
      "version": "3.7.6"
    },
    "colab": {
      "provenance": []
    }
  },
  "nbformat": 4,
  "nbformat_minor": 0
}
