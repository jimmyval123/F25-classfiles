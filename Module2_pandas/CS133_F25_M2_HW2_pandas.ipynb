{
  "cells": [
    {
      "cell_type": "markdown",
      "metadata": {
        "id": "KaXHUmuvM4cH"
      },
      "source": [
        "# Module 2 Homework - Pandas\n",
        "Using a dataset from _Wine Spectator_, a wine magazine, we will practice data transformation, grouping, and sorting."
      ]
    },
    {
      "cell_type": "markdown",
      "metadata": {
        "id": "tTstCztoUGc7"
      },
      "source": [
        "Created by Jimmy Valdez (017352270)  \n",
        "Last updated: 09/13/2025"
      ]
    },
    {
      "cell_type": "code",
      "execution_count": 1,
      "metadata": {
        "id": "Iv968XwaM4cI"
      },
      "outputs": [],
      "source": [
        "csvurl=\"https://gist.githubusercontent.com/clairehq/\" + \\\n",
        "        \"79acab35be50eaf1c383948ed3fd1129/raw/407a02139ae1e134992b90b4b2b8c329b3d73a6a/winemag-data-130k-v2.csv\"\n",
        "import pandas as pd\n",
        "wine = pd.read_csv(csvurl)"
      ]
    },
    {
      "cell_type": "markdown",
      "metadata": {
        "id": "BJ47sxo7TPCT"
      },
      "source": [
        "**Data cleaning**  \n",
        "Notice that the first column is redundant. Part of data analysis is cleaning and removing redundancy. How would you drop the redundant column inplace, that is overwrite the dataframe."
      ]
    },
    {
      "cell_type": "markdown",
      "metadata": {
        "id": "B5icW1ooM4cK"
      },
      "source": [
        "#### Question 1: ####  \n",
        "What is the mean of the points column?"
      ]
    },
    {
      "cell_type": "code",
      "execution_count": 3,
      "metadata": {
        "id": "zfLRcH-QNZk8"
      },
      "outputs": [
        {
          "data": {
            "text/plain": [
              "np.float64(88.43403716087269)"
            ]
          },
          "execution_count": 3,
          "metadata": {},
          "output_type": "execute_result"
        }
      ],
      "source": [
        "wine['points'].mean()"
      ]
    },
    {
      "cell_type": "markdown",
      "metadata": {
        "id": "xgUNI-hfM4cK"
      },
      "source": [
        "#### Question 2: ####  \n",
        "How many countries are present in this dataset? (Only count each country once)"
      ]
    },
    {
      "cell_type": "code",
      "execution_count": 2,
      "metadata": {
        "id": "3VtO-ngdNau1"
      },
      "outputs": [
        {
          "data": {
            "text/plain": [
              "array(['Italy', 'Portugal', 'US', 'Spain', 'France', 'Germany',\n",
              "       'Argentina', 'Chile', 'Australia', 'Austria', 'South Africa',\n",
              "       'New Zealand', 'Israel', 'Hungary', 'Greece', 'Romania', 'Mexico',\n",
              "       'Canada', nan, 'Turkey', 'Czech Republic', 'Slovenia',\n",
              "       'Luxembourg', 'Croatia', 'Georgia', 'Uruguay', 'England',\n",
              "       'Lebanon', 'Serbia', 'Brazil', 'Moldova', 'Morocco', 'Peru',\n",
              "       'India', 'Bulgaria', 'Cyprus', 'Armenia', 'Switzerland',\n",
              "       'Bosnia and Herzegovina', 'Ukraine', 'Slovakia', 'Macedonia'],\n",
              "      dtype=object)"
            ]
          },
          "execution_count": 2,
          "metadata": {},
          "output_type": "execute_result"
        }
      ],
      "source": [
        "wine['country'].unique()"
      ]
    },
    {
      "cell_type": "markdown",
      "metadata": {
        "id": "o0LDb6ahM4cL"
      },
      "source": [
        "#### Question 3: ####\n",
        "How many times does each country appeared in this dataset? Show each country and the corresponding count (show counts in ascending order)"
      ]
    },
    {
      "cell_type": "code",
      "execution_count": 3,
      "metadata": {
        "id": "tLZ7v1RYNdDm"
      },
      "outputs": [
        {
          "data": {
            "text/plain": [
              "country\n",
              "Bosnia and Herzegovina        1\n",
              "Slovakia                      1\n",
              "Armenia                       1\n",
              "Luxembourg                    4\n",
              "India                         4\n",
              "Switzerland                   4\n",
              "Ukraine                       5\n",
              "Czech Republic                6\n",
              "Macedonia                     6\n",
              "Cyprus                        6\n",
              "Serbia                        7\n",
              "Peru                          8\n",
              "Morocco                      11\n",
              "Lebanon                      20\n",
              "Moldova                      30\n",
              "Mexico                       31\n",
              "Brazil                       31\n",
              "England                      36\n",
              "Georgia                      37\n",
              "Slovenia                     39\n",
              "Turkey                       43\n",
              "Croatia                      44\n",
              "Hungary                      61\n",
              "Uruguay                      61\n",
              "Romania                      67\n",
              "Bulgaria                     68\n",
              "Canada                      108\n",
              "Greece                      242\n",
              "Israel                      259\n",
              "New Zealand                 733\n",
              "South Africa                737\n",
              "Germany                    1051\n",
              "Australia                  1177\n",
              "Austria                    1635\n",
              "Argentina                  1907\n",
              "Chile                      2258\n",
              "Portugal                   2963\n",
              "Spain                      3409\n",
              "Italy                     10005\n",
              "France                    11174\n",
              "US                        27177\n",
              "Name: count, dtype: int64"
            ]
          },
          "execution_count": 3,
          "metadata": {},
          "output_type": "execute_result"
        }
      ],
      "source": [
        "wine['country'].value_counts(ascending=True)"
      ]
    },
    {
      "cell_type": "markdown",
      "metadata": {
        "id": "OpkB90HkM4cL"
      },
      "source": [
        "#### Question 4: ####\n",
        "Create a variable `adjusted_price` containing the adjusted price which is the price subtracted by the average price. *This is called **\"centering\" transformation** - a method commonly used in the preprocessing step before applying various machine learning algorithms.*"
      ]
    },
    {
      "cell_type": "code",
      "execution_count": 12,
      "metadata": {
        "id": "PiNrXHhMNeTD"
      },
      "outputs": [
        {
          "data": {
            "text/plain": [
              "0              NaN\n",
              "1       -20.232932\n",
              "2       -21.232932\n",
              "3       -22.232932\n",
              "4        29.767068\n",
              "           ...    \n",
              "65494     9.767068\n",
              "65495   -13.232932\n",
              "65496   -15.232932\n",
              "65497    -4.232932\n",
              "65498   -25.232932\n",
              "Name: price, Length: 65499, dtype: float64"
            ]
          },
          "execution_count": 12,
          "metadata": {},
          "output_type": "execute_result"
        }
      ],
      "source": [
        "adjusted_price = wine['price'] - wine['price'].mean()\n",
        "adjusted_price\n"
      ]
    },
    {
      "cell_type": "markdown",
      "metadata": {
        "id": "AkOtVGS6M4cL"
      },
      "source": [
        "#### Question 5: ####\n",
        "What is the title of the wine that has the highest points-to-price ratio in the dataset?"
      ]
    },
    {
      "cell_type": "code",
      "execution_count": 14,
      "metadata": {
        "id": "M493qpX7NfjD"
      },
      "outputs": [
        {
          "data": {
            "text/plain": [
              "Unnamed: 0                                                           64590\n",
              "country                                                                 US\n",
              "description              There's a lot going on in this Merlot, which i...\n",
              "designation                                                            NaN\n",
              "points                                                                  86\n",
              "price                                                                  4.0\n",
              "province                                                        California\n",
              "region_1                                                        California\n",
              "region_2                                                  California Other\n",
              "taster_name                                                            NaN\n",
              "taster_twitter_handle                                                  NaN\n",
              "title                                        Bandit NV Merlot (California)\n",
              "variety                                                             Merlot\n",
              "winery                                                              Bandit\n",
              "points_to_price                                                       21.5\n",
              "Name: 64590, dtype: object"
            ]
          },
          "execution_count": 14,
          "metadata": {},
          "output_type": "execute_result"
        }
      ],
      "source": [
        "wine['points_to_price'] = wine['points'] / wine['price']\n",
        "best_value_wine = wine.loc[wine['points_to_price'].idxmax()]\n",
        "best_value_wine"
      ]
    },
    {
      "cell_type": "markdown",
      "metadata": {
        "id": "Zqt78i-eM4cL"
      },
      "source": [
        "#### Question 6: ####\n",
        "Create a series `flavor_counts` that contains two values: the number of wines that has the word \"tart\" in the `description` column and the number of wines that has the word \"berries\" in the `description` column. The index of the Series should be \"Tart\" and \"Berries\" for the corresponding values."
      ]
    },
    {
      "cell_type": "code",
      "execution_count": 18,
      "metadata": {
        "id": "uzqdreKSM4cM"
      },
      "outputs": [
        {
          "data": {
            "text/plain": [
              "0        False\n",
              "1        False\n",
              "2        False\n",
              "3        False\n",
              "4        False\n",
              "         ...  \n",
              "65494    False\n",
              "65495    False\n",
              "65496    False\n",
              "65497    False\n",
              "65498    False\n",
              "Name: description, Length: 65499, dtype: bool"
            ]
          },
          "execution_count": 18,
          "metadata": {},
          "output_type": "execute_result"
        }
      ],
      "source": [
        "# Look for the word \"tart\", not case sensitive, not a substring of another word.\n",
        "# Same applies to the word \"berries\"\n",
        "flavor_count = wine['description'].str.contains(\"tart\", case=False, na=False)\n",
        "flavor_count &= wine['description'].str.contains(\"berries\", case=False, na=False)\n",
        "flavor_count"
      ]
    },
    {
      "cell_type": "markdown",
      "metadata": {
        "id": "wSVdmOw9M4cM"
      },
      "source": [
        "#### Question 7: ####\n",
        "Let's convert the points into simple star ratings. A score of 90 or higher counts as 3 stars, a score of at least 80 but less than 90 is 2 stars. Any other score is 1 star.\n",
        "\n",
        "Also, any wines from France should automatically get 3 stars, regardless of points.\n",
        "\n",
        "Add this new column `star_ratings` to the dataframe with the number of stars for each wine in the dataset."
      ]
    },
    {
      "cell_type": "code",
      "execution_count": 25,
      "metadata": {
        "id": "yOucjOJZM4cN"
      },
      "outputs": [
        {
          "data": {
            "text/plain": [
              "star_rating\n",
              "2    34221\n",
              "3    31278\n",
              "Name: count, dtype: int64"
            ]
          },
          "execution_count": 25,
          "metadata": {},
          "output_type": "execute_result"
        }
      ],
      "source": [
        "wine['star_rating'] = 1\n",
        "wine.loc[wine['points'] >= 90, 'star_rating'] = 3\n",
        "wine.loc[(wine['points'] >= 80) & (wine['points'] < 90), 'star_rating'] = 2\n",
        "wine.loc[wine['country'] == 'France', 'star_rating'] = 3\n",
        "\n",
        "wine['star_rating'].value_counts()"
      ]
    },
    {
      "cell_type": "markdown",
      "metadata": {
        "id": "v9btZBA6M4cN"
      },
      "source": [
        "#### Question 8: ####\n",
        "Who are the most common wine reviewers in the dataset? Create a Series whose index is the taster_twitter_handle category from the dataset, and whose values count how many reviews each person wrote."
      ]
    },
    {
      "cell_type": "code",
      "execution_count": 29,
      "metadata": {
        "id": "dqsUgtGBNiQZ"
      },
      "outputs": [
        {
          "data": {
            "text/plain": [
              "taster_twitter_handle\n",
              "@vossroger          13045\n",
              "@wineschach          7752\n",
              "@kerinokeefe         5313\n",
              "@paulgwine           4851\n",
              "@vboone              4696\n",
              "@mattkettmann        3035\n",
              "@JoeCz               2605\n",
              "@wawinereport        2358\n",
              "@gordone_cellars     2032\n",
              "@AnneInVino          1769\n",
              "@laurbuzz             938\n",
              "@suskostrzewa         593\n",
              "@worldwineguys        465\n",
              "@bkfiona               11\n",
              "@winewchristina         4\n",
              "Name: count, dtype: int64"
            ]
          },
          "execution_count": 29,
          "metadata": {},
          "output_type": "execute_result"
        }
      ],
      "source": [
        "reviewers = wine['taster_twitter_handle']\n",
        "reviewer_counts = reviewers.value_counts()\n",
        "reviewer_counts"
      ]
    },
    {
      "cell_type": "markdown",
      "metadata": {
        "id": "rIO81pKrM4cN"
      },
      "source": [
        "#### Question 9: ####\n",
        "What combination of countries and varieties are most common? Create a Series whose index is a MultiIndexof {country, variety} pairs. For example, a pinot noir produced in the US should map to {\"US\", \"Pinot Noir\"}. Sort the values in the Series in descending order based on wine count."
      ]
    },
    {
      "cell_type": "code",
      "execution_count": 36,
      "metadata": {
        "id": "4Is2muZjNjxd"
      },
      "outputs": [
        {
          "data": {
            "text/plain": [
              "country    variety                 \n",
              "US         Pinot Noir                  4918\n",
              "           Cabernet Sauvignon          3649\n",
              "           Chardonnay                  3412\n",
              "France     Bordeaux-style Red Blend    2380\n",
              "Italy      Red Blend                   1870\n",
              "                                       ... \n",
              "Romania    Rosé                           1\n",
              "US         Ugni Blanc                     1\n",
              "           Touriga                        1\n",
              "           Torrontés                      1\n",
              "Argentina  Merlot-Cabernet Franc          1\n",
              "Length: 1304, dtype: int64"
            ]
          },
          "execution_count": 36,
          "metadata": {},
          "output_type": "execute_result"
        }
      ],
      "source": [
        "common_varieties = wine.groupby(['country', 'variety']).size()\n",
        "common_varieties.sort_values(ascending=False)"
      ]
    },
    {
      "cell_type": "markdown",
      "metadata": {
        "id": "C6sj-ABlM4cO"
      },
      "source": [
        "#### Question 10 #####\n",
        "Create a Series whose index is reviewers and whose values is the average score given out by that reviewer. Hint: you will need the `taster_name` and `points` columns."
      ]
    },
    {
      "cell_type": "code",
      "execution_count": null,
      "metadata": {
        "id": "QFseCkVwNlAk"
      },
      "outputs": [
        {
          "data": {
            "text/plain": [
              "taster_name\n",
              "Anne Krebiehl MW      90.587903\n",
              "Matt Kettmann         90.021087\n",
              "Christina Pickard     89.500000\n",
              "Virginie Boone        89.229557\n",
              "Paul Gregutt          89.095032\n",
              "Mike DeSimone         89.030303\n",
              "Kerin O’Keefe         88.827969\n",
              "Roger Voss            88.678957\n",
              "Sean P. Sullivan      88.666243\n",
              "Jim Gordon            88.604331\n",
              "Joe Czerwinski        88.519770\n",
              "Anna Lee C. Iijima    88.380506\n",
              "Jeff Jenssen          88.273504\n",
              "Lauren Buzzeo         87.831557\n",
              "Fiona Adams           87.090909\n",
              "Michael Schachner     86.904541\n",
              "Carrie Dykes          86.644444\n",
              "Susan Kostrzewa       86.408094\n",
              "Alexander Peartree    86.014286\n",
              "Name: points, dtype: float64"
            ]
          },
          "execution_count": 41,
          "metadata": {},
          "output_type": "execute_result"
        }
      ],
      "source": [
        "reviewer_avgscores = wine.groupby('taster_name')['points'].mean()\n",
        "reviewer_avgscores.sort_values(ascending=False)"
      ]
    }
  ],
  "metadata": {
    "colab": {
      "provenance": []
    },
    "kernelspec": {
      "display_name": "Python 3",
      "language": "python",
      "name": "python3"
    },
    "language_info": {
      "codemirror_mode": {
        "name": "ipython",
        "version": 3
      },
      "file_extension": ".py",
      "mimetype": "text/x-python",
      "name": "python",
      "nbconvert_exporter": "python",
      "pygments_lexer": "ipython3",
      "version": "3.12.1"
    }
  },
  "nbformat": 4,
  "nbformat_minor": 0
}
