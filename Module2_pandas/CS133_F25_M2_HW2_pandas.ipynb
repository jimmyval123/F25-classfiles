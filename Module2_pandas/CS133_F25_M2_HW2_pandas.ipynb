{
  "cells": [
    {
      "cell_type": "markdown",
      "metadata": {
        "id": "KaXHUmuvM4cH"
      },
      "source": [
        "# Module 2 Homework - Pandas\n",
        "Using a dataset from _Wine Spectator_, a wine magazine, we will practice data transformation, grouping, and sorting."
      ]
    },
    {
      "cell_type": "markdown",
      "metadata": {
        "id": "tTstCztoUGc7"
      },
      "source": [
        "Created by NAME (SJSU ID)  \n",
        "Last updated: DATE"
      ]
    },
    {
      "cell_type": "code",
      "execution_count": 2,
      "metadata": {
        "id": "Iv968XwaM4cI"
      },
      "outputs": [],
      "source": [
        "csvurl=\"https://gist.githubusercontent.com/clairehq/\" + \\\n",
        "        \"79acab35be50eaf1c383948ed3fd1129/raw/407a02139ae1e134992b90b4b2b8c329b3d73a6a/winemag-data-130k-v2.csv\"\n",
        "import pandas as pd\n",
        "wine = pd.read_csv(csvurl)"
      ]
    },
    {
      "cell_type": "markdown",
      "metadata": {
        "id": "BJ47sxo7TPCT"
      },
      "source": [
        "**Data cleaning**  \n",
        "Notice that the first column is redundant. Part of data analysis is cleaning and removing redundancy. How would you drop the redundant column inplace, that is overwrite the dataframe."
      ]
    },
    {
      "cell_type": "markdown",
      "metadata": {
        "id": "B5icW1ooM4cK"
      },
      "source": [
        "#### Question 1: ####  \n",
        "What is the mean of the points column?"
      ]
    },
    {
      "cell_type": "code",
      "execution_count": 3,
      "metadata": {
        "id": "zfLRcH-QNZk8"
      },
      "outputs": [
        {
          "data": {
            "text/plain": [
              "np.float64(88.43403716087269)"
            ]
          },
          "execution_count": 3,
          "metadata": {},
          "output_type": "execute_result"
        }
      ],
      "source": [
        "wine['points'].mean()"
      ]
    },
    {
      "cell_type": "markdown",
      "metadata": {
        "id": "xgUNI-hfM4cK"
      },
      "source": [
        "#### Question 2: ####  \n",
        "How many countries are present in this dataset? (Only count each country once)"
      ]
    },
    {
      "cell_type": "code",
      "execution_count": null,
      "metadata": {
        "id": "3VtO-ngdNau1"
      },
      "outputs": [],
      "source": [
        "# Your code here . . ."
      ]
    },
    {
      "cell_type": "markdown",
      "metadata": {
        "id": "o0LDb6ahM4cL"
      },
      "source": [
        "#### Question 3: ####\n",
        "How many times does each country appeared in this dataset? Show each country and the corresponding count (show counts in ascending order)"
      ]
    },
    {
      "cell_type": "code",
      "execution_count": null,
      "metadata": {
        "id": "tLZ7v1RYNdDm"
      },
      "outputs": [],
      "source": [
        "# Your code here . . ."
      ]
    },
    {
      "cell_type": "markdown",
      "metadata": {
        "id": "OpkB90HkM4cL"
      },
      "source": [
        "#### Question 4: ####\n",
        "Create a variable `adjusted_price` containing the adjusted price which is the price subtracted by the average price. *This is called **\"centering\" transformation** - a method commonly used in the preprocessing step before applying various machine learning algorithms.*"
      ]
    },
    {
      "cell_type": "code",
      "execution_count": null,
      "metadata": {
        "id": "PiNrXHhMNeTD"
      },
      "outputs": [],
      "source": [
        "# Your code here . . ."
      ]
    },
    {
      "cell_type": "markdown",
      "metadata": {
        "id": "AkOtVGS6M4cL"
      },
      "source": [
        "#### Question 5: ####\n",
        "What is the title of the wine that has the highest points-to-price ratio in the dataset?"
      ]
    },
    {
      "cell_type": "code",
      "execution_count": null,
      "metadata": {
        "id": "M493qpX7NfjD"
      },
      "outputs": [],
      "source": [
        "# Your code here . . ."
      ]
    },
    {
      "cell_type": "markdown",
      "metadata": {
        "id": "Zqt78i-eM4cL"
      },
      "source": [
        "#### Question 6: ####\n",
        "Create a series `flavor_counts` that contains two values: the number of wines that has the word \"tart\" in the `description` column and the number of wines that has the word \"berries\" in the `description` column. The index of the Series should be \"Tart\" and \"Berries\" for the corresponding values."
      ]
    },
    {
      "cell_type": "code",
      "execution_count": null,
      "metadata": {
        "id": "uzqdreKSM4cM"
      },
      "outputs": [],
      "source": [
        "# Look for the word \"tart\", not case sensitive, not a substring of another word.\n",
        "# Same applies to the word \"berries\"\n",
        "# Your code here . . ."
      ]
    },
    {
      "cell_type": "markdown",
      "metadata": {
        "id": "wSVdmOw9M4cM"
      },
      "source": [
        "#### Question 7: ####\n",
        "Let's convert the points into simple star ratings. A score of 90 or higher counts as 3 stars, a score of at least 80 but less than 90 is 2 stars. Any other score is 1 star.\n",
        "\n",
        "Also, any wines from France should automatically get 3 stars, regardless of points.\n",
        "\n",
        "Add this new column `star_ratings` to the dataframe with the number of stars for each wine in the dataset."
      ]
    },
    {
      "cell_type": "code",
      "execution_count": null,
      "metadata": {
        "id": "yOucjOJZM4cN"
      },
      "outputs": [],
      "source": [
        "# Your code here . . ."
      ]
    },
    {
      "cell_type": "markdown",
      "metadata": {
        "id": "v9btZBA6M4cN"
      },
      "source": [
        "#### Question 8: ####\n",
        "Who are the most common wine reviewers in the dataset? Create a Series whose index is the taster_twitter_handle category from the dataset, and whose values count how many reviews each person wrote."
      ]
    },
    {
      "cell_type": "code",
      "execution_count": null,
      "metadata": {
        "id": "dqsUgtGBNiQZ"
      },
      "outputs": [],
      "source": [
        "# Your code here . . ."
      ]
    },
    {
      "cell_type": "markdown",
      "metadata": {
        "id": "rIO81pKrM4cN"
      },
      "source": [
        "#### Question 9: ####\n",
        "What combination of countries and varieties are most common? Create a Series whose index is a MultiIndexof {country, variety} pairs. For example, a pinot noir produced in the US should map to {\"US\", \"Pinot Noir\"}. Sort the values in the Series in descending order based on wine count."
      ]
    },
    {
      "cell_type": "code",
      "execution_count": null,
      "metadata": {
        "id": "4Is2muZjNjxd"
      },
      "outputs": [],
      "source": [
        "# Your code here . . ."
      ]
    },
    {
      "cell_type": "markdown",
      "metadata": {
        "id": "C6sj-ABlM4cO"
      },
      "source": [
        "#### Question 10 #####\n",
        "Create a Series whose index is reviewers and whose values is the average score given out by that reviewer. Hint: you will need the `taster_name` and `points` columns."
      ]
    },
    {
      "cell_type": "code",
      "execution_count": null,
      "metadata": {
        "id": "QFseCkVwNlAk"
      },
      "outputs": [],
      "source": [
        "# Your code here . . ."
      ]
    }
  ],
  "metadata": {
    "colab": {
      "provenance": []
    },
    "kernelspec": {
      "display_name": "Python 3",
      "language": "python",
      "name": "python3"
    },
    "language_info": {
      "codemirror_mode": {
        "name": "ipython",
        "version": 3
      },
      "file_extension": ".py",
      "mimetype": "text/x-python",
      "name": "python",
      "nbconvert_exporter": "python",
      "pygments_lexer": "ipython3",
      "version": "3.12.1"
    }
  },
  "nbformat": 4,
  "nbformat_minor": 0
}
