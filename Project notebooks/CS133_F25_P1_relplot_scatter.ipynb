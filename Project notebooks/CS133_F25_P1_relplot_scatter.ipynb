{
  "cells": [
    {
      "cell_type": "markdown",
      "source": [
        "# Project data exploration - looking at relplot and scatter\n",
        "Using a dataset that your group is consider using for the term project, let's do some data exploring of the different features in your dataset and their relationships"
      ],
      "metadata": {
        "id": "G1R_oERWiKtv"
      }
    },
    {
      "cell_type": "markdown",
      "source": [
        "Group name:  \n",
        "Created by NAMES (SJSU IDs)  \n",
        "Last updated: DATE  \n",
        "Briefly describe your dataset"
      ],
      "metadata": {
        "id": "Ml3CVbR8iSwb"
      }
    },
    {
      "cell_type": "markdown",
      "source": [
        "Import your data. If you want to mount your Google drive you can use `from google.colab import drive` and `drive.mount('/content/drive')`"
      ],
      "metadata": {
        "id": "7wXzCAlFi7Tp"
      }
    },
    {
      "cell_type": "markdown",
      "metadata": {
        "id": "o67baSkq4odS"
      },
      "source": [
        "### Q1: Show the number of missing data in each column of the dataframe"
      ]
    },
    {
      "cell_type": "code",
      "source": [
        "# Your code here . . ."
      ],
      "metadata": {
        "id": "xQrjGTZb4rZE"
      },
      "execution_count": null,
      "outputs": []
    },
    {
      "cell_type": "markdown",
      "metadata": {
        "id": "2gBQnPbS4odT"
      },
      "source": [
        "### Q2: Show the data type for each column of the dataframe"
      ]
    },
    {
      "cell_type": "code",
      "source": [
        "# Your code here . . ."
      ],
      "metadata": {
        "id": "iBBfjifl4tWD"
      },
      "execution_count": null,
      "outputs": []
    },
    {
      "cell_type": "markdown",
      "source": [
        "### Q3: Create a pair plot to show pairwise relationship in this dataset.\n",
        "Draw the pairwise polynomial regression lines in a different color than the data points. Use a light color for the data points to deemphasizing the points to make the regression line stand out. Include a meaningful title to the plot."
      ],
      "metadata": {
        "id": "2QajJFw5j_Oe"
      }
    },
    {
      "cell_type": "code",
      "source": [
        "# Your code here . . ."
      ],
      "metadata": {
        "id": "7jPqoJJdj-M7"
      },
      "execution_count": null,
      "outputs": []
    },
    {
      "cell_type": "markdown",
      "metadata": {
        "id": "kdtM-5AS4odT"
      },
      "source": [
        "### Q4: Plot a regression line and confidence interval\n",
        "Select two of the features from your dataset and create a lmplot that shows the linear regression between them. Filter your data as you see fit. Include a meaningful title for the plot."
      ]
    },
    {
      "cell_type": "code",
      "source": [
        "# Your code here . . ."
      ],
      "metadata": {
        "id": "9byvAw-34uPx"
      },
      "execution_count": null,
      "outputs": []
    },
    {
      "cell_type": "markdown",
      "metadata": {
        "id": "25VDbR134odU"
      },
      "source": [
        "### Q5. Create a relplot that shows multiple features in a single plot.\n",
        "Select two features from your dataset and plot a scatter plot. Select two additional features you want to highlight in your data points using `hue` and `size`. Include a meaningful title to the plot."
      ]
    },
    {
      "cell_type": "code",
      "source": [
        "# Your code here . . ."
      ],
      "metadata": {
        "id": "baxRGr2B4vPJ"
      },
      "execution_count": null,
      "outputs": []
    },
    {
      "cell_type": "markdown",
      "metadata": {
        "id": "1qSUob7M4odV"
      },
      "source": [
        "### Q6: Create a plot with small multiples plots\n",
        "Select two features from your dataset and show the relationship between the features with an additional feature as the single category. Organize the multiple plots to have 3 plots per row. Set the `height` of the plot to 5 and the size the of data point to 20. Include a meaningful title in the plot."
      ]
    },
    {
      "cell_type": "code",
      "source": [
        "# Your code here . . ."
      ],
      "metadata": {
        "id": "INfPKDPj4vz4"
      },
      "execution_count": null,
      "outputs": []
    }
  ],
  "metadata": {
    "kernelspec": {
      "display_name": "Python 3",
      "language": "python",
      "name": "python3"
    },
    "language_info": {
      "codemirror_mode": {
        "name": "ipython",
        "version": 3
      },
      "file_extension": ".py",
      "mimetype": "text/x-python",
      "name": "python",
      "nbconvert_exporter": "python",
      "pygments_lexer": "ipython3",
      "version": "3.7.6"
    },
    "colab": {
      "provenance": []
    }
  },
  "nbformat": 4,
  "nbformat_minor": 0
}